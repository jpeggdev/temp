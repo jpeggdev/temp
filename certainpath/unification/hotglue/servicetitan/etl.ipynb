{
 "cells": [
  {
   "cell_type": "code",
   "execution_count": 1,
   "metadata": {},
   "outputs": [],
   "source": [
    "## !pip install openpyxl\n",
    "\n",
    "import os\n",
    "import gluestick as gs\n",
    "import pandas as pd\n",
    "from glob import glob\n",
    "from datetime import datetime\n",
    "import time\n",
    "from utilities import create_directories, to_snake_case, rename_columns_to_snake_case\n",
    "from stream_utils import determine_stream_name"
   ]
  },
  {
   "cell_type": "code",
   "execution_count": 2,
   "metadata": {},
   "outputs": [],
   "source": [
    "# Get export format\n",
    "EXPORT_FORMAT = os.environ.get(\"DEFAULT_EXPORT_FORMAT\", \"singer\")\n",
    "\n",
    "# Get tenant id\n",
    "TENANT_ID = os.environ.get(\"USER_ID\", os.environ.get(\"TENANT\", \"default\"))\n",
    "\n",
    "# Establish standard directories for hotglue\n",
    "ROOT_DIR = os.environ.get(\"ROOT_DIR\", \".\")\n",
    "INPUT_DIR = f\"{ROOT_DIR}/sync-output\"\n",
    "OUTPUT_DIR = f\"{ROOT_DIR}/etl-output\""
   ]
  },
  {
   "cell_type": "code",
   "execution_count": 3,
   "metadata": {},
   "outputs": [],
   "source": [
    "create_directories(INPUT_DIR, OUTPUT_DIR)"
   ]
  },
  {
   "cell_type": "code",
   "execution_count": 4,
   "metadata": {},
   "outputs": [],
   "source": [
    "fallback_version = False\n",
    "try:\n",
    "    input = gs.Reader()\n",
    "except AttributeError:\n",
    "    input = gs.read_csv_folder(INPUT_DIR)\n",
    "    fallback_version = True"
   ]
  },
  {
   "cell_type": "code",
   "execution_count": 5,
   "metadata": {},
   "outputs": [],
   "source": [
    "def process_dataframe(df, file_name):\n",
    "    print(f\"Processing data from: {file_name}\")\n",
    "    \n",
    "    df = rename_columns_to_snake_case(df)\n",
    "    \n",
    "    stream_name = determine_stream_name(df)\n",
    "    \n",
    "    if stream_name == \"unknown_stream\":\n",
    "        print(f\"Unknown data type in {file_name}. Skipping.\")\n",
    "        return\n",
    "    \n",
    "    df['index'] = df.index\n",
    "    df['tenant'] = TENANT_ID\n",
    "    df['timestamp'] = str(time.time())\n",
    "    df['id'] = df['index'].astype(str) + \"-\" + df['tenant'].astype(str) + \"-\" + df['timestamp'].astype(str)\n",
    "    df['created'] = datetime.utcnow().isoformat()\n",
    "    \n",
    "    if stream_name == \"my_stream\":\n",
    "        # Add any specific processing here\n",
    "        pass\n",
    "    \n",
    "    output_file_path = f\"{OUTPUT_DIR}/{stream_name}.csv\"\n",
    "    df.to_csv(output_file_path, index=False, mode='a', header=not os.path.exists(output_file_path))\n",
    "    \n",
    "    gs.to_singer(df, stream_name, OUTPUT_DIR, keys=[\"id\"])\n",
    "    \n",
    "    print(f\"Processed {stream_name}\")\n",
    "    print(df.head())"
   ]
  },
  {
   "cell_type": "code",
   "execution_count": 6,
   "metadata": {},
   "outputs": [
    {
     "name": "stdout",
     "output_type": "stream",
     "text": [
      "Processing data from: ./sync-output/members.xlsx - Members\n",
      "Processed members_stream\n",
      "                 customer                         email           phone  \\\n",
      "0    William Cannon-NOTES  william.cannon1977@yahoo.com  (580) 284-0168   \n",
      "1          Bethany  Davis         bethndavis4@gmail.com  (270) 307-4698   \n",
      "2  Ken & Virginia Moulton           kenhmoulton@aol.com  (580) 531-2466   \n",
      "3   Martine & Henry Poppe           henry.poppe@att.net  (580) 248-3103   \n",
      "4          Susan Pueschel          sepueschel@gmail.com  (580) 585-1648   \n",
      "\n",
      "  active_member                         street apt_suite    city state  \\\n",
      "0           Yes       325 Mountain Ridge Place       NaN  Lawton    OK   \n",
      "1           Yes  283 Northeast Creekside Drive       NaN   Elgin    OK   \n",
      "2           Yes       7825 Northwest Brady Way       NaN  Lawton    OK   \n",
      "3           Yes       418 Southwest 23rd Place       NaN  Lawton    OK   \n",
      "4           Yes  639 Northwest Waterford Drive       NaN  Lawton    OK   \n",
      "\n",
      "   zip_code membership_status                program  systems  \\\n",
      "0     73507           current  VIP Membership Yearly        1   \n",
      "1     73538           current  VIP Membership Yearly        1   \n",
      "2     73505           current        VIP Membership         1   \n",
      "3     73505           current        VIP Membership         1   \n",
      "4     73505           current        VIP Membership         1   \n",
      "\n",
      "                         since                         ends  index   tenant  \\\n",
      "0  2023-10-25T00:00:00.000000Z                          NaN      0  default   \n",
      "1  2023-10-12T00:00:00.000000Z                          NaN      1  default   \n",
      "2  2022-10-20T00:00:00.000000Z  2024-04-08T00:00:00.000000Z      2  default   \n",
      "3  2023-06-13T00:00:00.000000Z  2024-06-12T00:00:00.000000Z      3  default   \n",
      "4  2023-06-23T00:00:00.000000Z  2024-06-21T00:00:00.000000Z      4  default   \n",
      "\n",
      "            timestamp                            id  \\\n",
      "0  1722626600.4315305  0-default-1722626600.4315305   \n",
      "1  1722626600.4315305  1-default-1722626600.4315305   \n",
      "2  1722626600.4315305  2-default-1722626600.4315305   \n",
      "3  1722626600.4315305  3-default-1722626600.4315305   \n",
      "4  1722626600.4315305  4-default-1722626600.4315305   \n",
      "\n",
      "                      created  \n",
      "0  2024-08-02T19:23:20.434580  \n",
      "1  2024-08-02T19:23:20.434580  \n",
      "2  2024-08-02T19:23:20.434580  \n",
      "3  2024-08-02T19:23:20.434580  \n",
      "4  2024-08-02T19:23:20.434580  \n",
      "Processing data from: ./sync-output/members.xlsx - Filters\n",
      "Unknown data type in ./sync-output/members.xlsx - Filters. Skipping.\n",
      "All files processed.\n"
     ]
    }
   ],
   "source": [
    "# Get all Excel and CSV files in the input directory\n",
    "input_files = glob(f\"{INPUT_DIR}/*.xlsx\") + glob(f\"{INPUT_DIR}/*.csv\")\n",
    "\n",
    "for file_path in input_files:\n",
    "    file_extension = os.path.splitext(file_path)[1].lower()\n",
    "    \n",
    "    if file_extension == '.xlsx':\n",
    "        # Read all sheets from the Excel file\n",
    "        input_data = pd.read_excel(file_path, sheet_name=None)\n",
    "        \n",
    "        # Process each sheet in the Excel file\n",
    "        for sheet_name, df in input_data.items():\n",
    "            process_dataframe(df, f\"{file_path} - {sheet_name}\")\n",
    "    \n",
    "    elif file_extension == '.csv':\n",
    "        # Read the CSV file\n",
    "        df = pd.read_csv(file_path)\n",
    "        process_dataframe(df, file_path)\n",
    "    \n",
    "    else:\n",
    "        print(f\"Unsupported file type: {file_path}\")\n",
    "\n",
    "print(\"All files processed.\")"
   ]
  },
  {
   "cell_type": "code",
   "execution_count": null,
   "metadata": {},
   "outputs": [],
   "source": []
  },
  {
   "cell_type": "code",
   "execution_count": null,
   "metadata": {},
   "outputs": [],
   "source": []
  }
 ],
 "metadata": {
  "kernelspec": {
   "display_name": "Python 3 (ipykernel)",
   "language": "python",
   "name": "python3"
  },
  "language_info": {
   "codemirror_mode": {
    "name": "ipython",
    "version": 3
   },
   "file_extension": ".py",
   "mimetype": "text/x-python",
   "name": "python",
   "nbconvert_exporter": "python",
   "pygments_lexer": "ipython3",
   "version": "3.10.13"
  },
  "vscode": {
   "interpreter": {
    "hash": "b0fa6594d8f4cbf19f97940f81e996739fb7646882a419484c72d19e05852a7e"
   }
  }
 },
 "nbformat": 4,
 "nbformat_minor": 4
}
